{
  "nbformat": 4,
  "nbformat_minor": 0,
  "metadata": {
    "colab": {
      "provenance": [],
      "authorship_tag": "ABX9TyPpZ0qqu8zKGRxZuI74RyTM",
      "include_colab_link": true
    },
    "kernelspec": {
      "name": "python3",
      "display_name": "Python 3"
    },
    "language_info": {
      "name": "python"
    }
  },
  "cells": [
    {
      "cell_type": "markdown",
      "metadata": {
        "id": "view-in-github",
        "colab_type": "text"
      },
      "source": [
        "<a href=\"https://colab.research.google.com/github/ShreyaGandhi15/Assignment-/blob/main/OOPS_Assignment.ipynb\" target=\"_parent\"><img src=\"https://colab.research.google.com/assets/colab-badge.svg\" alt=\"Open In Colab\"/></a>"
      ]
    },
    {
      "cell_type": "markdown",
      "source": [
        "Theoratical Questions\n"
      ],
      "metadata": {
        "id": "mWwKwwsvBHsH"
      }
    },
    {
      "cell_type": "markdown",
      "source": [
        "Q1. What is Object-Oriented Programming (OOP)?\n",
        "\n",
        "Ans. Object-Oriented Programming (OOP) is a programming paradigm that structures code around objects, which encapsulate data (attributes) and methods (functions) that operate on that data.\n"
      ],
      "metadata": {
        "id": "A3AZlmCqBFWv"
      }
    },
    {
      "cell_type": "markdown",
      "source": [
        "Q2. What is a class in OOP?\n",
        "\n",
        "Ans. In Object-Oriented Programming (OOP), a class is a blueprint or template used to create objects. It defines the structure and behavior of objects, specifying the attributes (data) and methods (functions) that objects of that class will possess."
      ],
      "metadata": {
        "id": "BiP9HHm0Bx7C"
      }
    },
    {
      "cell_type": "markdown",
      "source": [
        "Q3. What is an object in OOP?\n",
        "\n",
        "Ans. In object-oriented programming (OOP), an object is a fundamental building block. It's a self-contained unit that combines data (attributes) and methods (functions) that operate on that data."
      ],
      "metadata": {
        "id": "B8IYIVkECIWl"
      }
    },
    {
      "cell_type": "markdown",
      "source": [
        "Q4. What is the difference between abstraction and encapsulation?\n",
        "\n",
        "Ans. Abstraction focuses on what an object does (its public interface), while encapsulation focuses on how it does it (its internal implementation)."
      ],
      "metadata": {
        "id": "u42Tj8mwCWT1"
      }
    },
    {
      "cell_type": "markdown",
      "source": [
        "Q5. what are dunder methods in python?\n",
        "\n",
        "Ans. Dunder methods, also known as magic methods or special methods, are a core part of Python's object model. They are distinguished by their names, which begin and end with double underscores (e.g., __init__, __str__, __add__).\n",
        "These methods allow custom classes to define how they interact with Python's built-in operations, operators, and functions."
      ],
      "metadata": {
        "id": "H1OzLqh-Cmqc"
      }
    },
    {
      "cell_type": "markdown",
      "source": [
        "Q6. Explain the concept of inheritance in OOPH?\n",
        "\n",
        "Ans. Inheritance in object-oriented programming (OOP) is a mechanism where a new class (the subclass or child class) is created based on an existing class (the superclass or parent class), inheriting its attributes and methods.\n"
      ],
      "metadata": {
        "id": "Wa5BmgQeDL1V"
      }
    },
    {
      "cell_type": "markdown",
      "source": [
        "Q7. What is polymorphism in OOP?\n",
        "\n",
        "Ans. Polymorphism in object-oriented programming (OOP) means \"many forms\". It refers to the ability of an object or method to take on different forms or behaviors depending on the context."
      ],
      "metadata": {
        "id": "U6NI0ZVlDYEF"
      }
    },
    {
      "cell_type": "markdown",
      "source": [
        "Q8. How is encapsulation achieved in Python?\n",
        "\n",
        "Ans. Encapsulation in Python is achieved through conventions and mechanisms that promote data hiding and controlled access to class members, rather than strict access modifiers like private or protected found in some other languages."
      ],
      "metadata": {
        "id": "mPol8eSzDmzI"
      }
    },
    {
      "cell_type": "markdown",
      "source": [
        "Q9. what is a constructor in python?\n",
        "\n",
        "Ans. In Python, a constructor is a special method within a class that is automatically called when a new object (instance) of that class is created.\n",
        "The constructor in Python is defined using the __init__ method."
      ],
      "metadata": {
        "id": "7qaTM2pxDwNb"
      }
    },
    {
      "cell_type": "markdown",
      "source": [
        "Q10. What are class and static methods in Python?\n",
        "\n",
        "Ans.  A class method is a method that is bound to the class and receives the class itself as its first argument. It is defined using the @classmethod decorator.\n",
        "A static method is a method that belongs to the class but does not receive any implicit first argument. It is defined using the @staticmethod decorator.\n"
      ],
      "metadata": {
        "id": "RCOF8mTaEC-c"
      }
    },
    {
      "cell_type": "markdown",
      "source": [
        "Q11. What is method overloading in Python?\n",
        "\n",
        "Ans. Method overloading, refers to the ability to define multiple methods within a single class that share the same name but differ in their parameters."
      ],
      "metadata": {
        "id": "G44xjVCMEeEd"
      }
    },
    {
      "cell_type": "markdown",
      "source": [
        "Q12. What is method overriding in OOP?\n",
        "\n",
        "Ans. Method overriding in object-oriented programming (OOP) is a feature that allows a subclass to provide a specific implementation of a method that is already defined in its superclass."
      ],
      "metadata": {
        "id": "cz-tV3y-Hih4"
      }
    },
    {
      "cell_type": "markdown",
      "source": [
        "Q13. What is a property decorator in Python?\n",
        "\n",
        "Ans. A property decorator in Python, denoted by @property, is a built-in decorator that transforms a method within a class into an attribute. This allows for the access, modification, and deletion of class attributes to be controlled through methods."
      ],
      "metadata": {
        "id": "xG2vcTrSHxin"
      }
    },
    {
      "cell_type": "markdown",
      "source": [
        "Q14. Why is polymorphism important in OOP?\n",
        "\n",
        "Ans. Polymorphism plays a crucial role in software development by promoting code reusability, modularity, and extensibility. It allows developers to write generic code that can operate on various types of objects, reducing redundancy and improving efficiency."
      ],
      "metadata": {
        "id": "6ABR7xXMH8zl"
      }
    },
    {
      "cell_type": "markdown",
      "source": [
        "Q15. What is an abstract class in Python?\n",
        "\n",
        "Ans.  An abstract class in Python is a class that serves as a blueprint or template for other classes. It cannot be instantiated directly, meaning you cannot create objects from an abstract class itself. Instead, it is designed to be inherited by other classes (subclasses)."
      ],
      "metadata": {
        "id": "Yaq-qPsMIR0s"
      }
    },
    {
      "cell_type": "markdown",
      "source": [
        "Q16. What are the advantages of OOP?\n",
        "\n",
        "Ans. OOP promotes modularity through encapsulation, allowing for easier code management and modification. It also enables code reuse via inheritance and polymorphism, reducing development time and effort. Furthermore, OOP simplifies complex systems and facilitates easier troubleshooting due to its structured approach.\n"
      ],
      "metadata": {
        "id": "N538S7eTIhTp"
      }
    },
    {
      "cell_type": "markdown",
      "source": [
        "Q17. What is the difference between a class variable and an instance variable?\n",
        "\n",
        "Ans. Class variables are associated with the class itself and are shared by all instances of that class, while instance variables are specific to each individual object (instance) of the class."
      ],
      "metadata": {
        "id": "K5aBZVAiI0Hb"
      }
    },
    {
      "cell_type": "markdown",
      "source": [
        "Q18. What is multiple inheritance in Python?\n",
        "\n",
        "Ans. Multiple inheritance in Python is a feature of object-oriented programming where a class can inherit attributes and methods from more than one parent class. This means a single child class can be derived from two or more base classes, allowing it to combine the functionalities and characteristics of all its parent classes."
      ],
      "metadata": {
        "id": "xkJwBKXcJF0d"
      }
    },
    {
      "cell_type": "markdown",
      "source": [
        "Q19. Explain the purpose of ‘’__str__’ and ‘__repr__’ methods in Python\n",
        "\n",
        "Ans. In Python, __str__ and __repr__ are special methods. For __str__ (for \"string\"). To provide a user-friendly, human-readable string representation of an object.\n",
        "__repr__ (for \"representation\")- To provide a developer-oriented, unambiguous string representation of an object. This representation is primarily for debugging, logging, and object inspection."
      ],
      "metadata": {
        "id": "Swb_vaaWJWL2"
      }
    },
    {
      "cell_type": "markdown",
      "source": [
        "Q20. What is the significance of the ‘super()’ function in Python?\n",
        "\n",
        "Ans. The super() function in Python holds significant importance within the context of object-oriented programming, particularly concerning inheritance. Its primary significance lies in enabling access to methods and attributes of a parent or superclass from within a child or subclass."
      ],
      "metadata": {
        "id": "_496hsI8J7xB"
      }
    },
    {
      "cell_type": "markdown",
      "source": [
        "Q21. What is the significance of the __del__ method in Python?\n",
        "\n",
        "Ans. The __del__ method in Python, also known as the destructor, holds significance in object-oriented programming for managing resource cleanup when an object is about to be garbage collected."
      ],
      "metadata": {
        "id": "-PQBA6V3KHVY"
      }
    },
    {
      "cell_type": "markdown",
      "source": [
        "Q22. What is the difference between @staticmethod and @classmethod in Python?\n",
        "\n",
        "Ans. The primary difference between @staticmethod and @classmethod in Python lies in their access to the class and its instances:\n",
        "@classmethod:\n",
        "Takes the class itself (cls) as its first argument.\n",
        "Can access and modify class-level attributes and call other class methods.\n",
        "\n",
        "@staticmethod:\n",
        "Does not receive a reference to the instance (self) or the class (cls).\n",
        "Cannot access or modify instance-specific or class-specific data directly."
      ],
      "metadata": {
        "id": "rY1UfpWhKSNL"
      }
    },
    {
      "cell_type": "markdown",
      "source": [
        "Q23. How does polymorphism work in Python with inheritance?\n",
        "\n",
        "Ans. Polymorphism in Python, when combined with inheritance, primarily manifests through method overriding. This allows objects of different classes, related by inheritance, to respond to the same method call in a way specific to their own class."
      ],
      "metadata": {
        "id": "ddkm9O7aKsy_"
      }
    },
    {
      "cell_type": "markdown",
      "source": [
        "Q24. What is method chaining in Python OOP?\n",
        "\n",
        "Ans. Method chaining in Python Object-Oriented Programming (OOP) is a technique that allows for the sequential invocation of multiple methods on the same object within a single line of code."
      ],
      "metadata": {
        "id": "9a5cIhkeK6Fg"
      }
    },
    {
      "cell_type": "markdown",
      "source": [
        "Q25.  What is the purpose of the __call__ method in Python?\n",
        "\n",
        "Ans. The __call__ method in Python is a special \"dunder\" (double underscore) method that allows instances of a class to be treated and invoked like functions.\n",
        "The primary purpose is to make instances of a class callable, enabling them to behave like functions while still retaining their object-oriented properties."
      ],
      "metadata": {
        "id": "1-6_YeozLFIi"
      }
    },
    {
      "cell_type": "markdown",
      "source": [
        "Practical Questions\n"
      ],
      "metadata": {
        "id": "5qM6P-xeLdmJ"
      }
    },
    {
      "cell_type": "markdown",
      "source": [
        "Q1.  Create a parent class Animal with a method speak() that prints a generic message. Create a child class Dog\n",
        "that overrides the speak() method to print \"Bark!\"."
      ],
      "metadata": {
        "id": "j9Zj7ZThLgCX"
      }
    },
    {
      "cell_type": "code",
      "source": [
        "class Animal:\n",
        "    def __init__(self, name, sound):\n",
        "        self.name = name\n",
        "        self.sound = sound\n",
        "\n",
        "    def speak(self):\n",
        "        print(f\"{self.name} says {self.sound}\")\n",
        "\n",
        "class Dog(Animal):\n",
        "    def __init__(self, name):\n",
        "        super().__init__(name, \"barks\")\n",
        ""
      ],
      "metadata": {
        "id": "9GXG4FwULlzY"
      },
      "execution_count": 5,
      "outputs": []
    },
    {
      "cell_type": "code",
      "source": [
        "dog = Dog(\"Rufus\")\n",
        "dog.speak()"
      ],
      "metadata": {
        "colab": {
          "base_uri": "https://localhost:8080/"
        },
        "id": "1dREvv2Ibh_V",
        "outputId": "70d0b79b-e065-46d4-e4cb-3f547e5050b3"
      },
      "execution_count": 6,
      "outputs": [
        {
          "output_type": "stream",
          "name": "stdout",
          "text": [
            "Rufus says barks\n"
          ]
        }
      ]
    },
    {
      "cell_type": "markdown",
      "source": [
        "Q2.  Write a program to create an abstract class Shape with a method area(). Derive classes Circle and Rectangle\n",
        "from it and implement the area() method in both."
      ],
      "metadata": {
        "id": "k_L3UfxxLmPf"
      }
    },
    {
      "cell_type": "code",
      "source": [
        "import abc\n",
        "import math\n",
        "\n",
        "class Shape(abc.ABC):\n",
        "    @abc.abstractmethod\n",
        "    def area(self):\n",
        "        pass\n",
        "\n",
        "class Circle(Shape):\n",
        "    def __init__(self, radius):\n",
        "        self.radius = radius\n",
        "\n",
        "    def area(self):\n",
        "        return math.pi * self.radius**2\n",
        "\n",
        "class Rectangle(Shape):\n",
        "    def __init__(self, length, width):\n",
        "        self.length = length\n",
        "        self.width = width\n",
        "\n",
        "    def area(self):\n",
        "        return self.length * self.width"
      ],
      "metadata": {
        "id": "j7kdOQrQLp06"
      },
      "execution_count": 7,
      "outputs": []
    },
    {
      "cell_type": "code",
      "source": [
        "circle = Circle(5)\n",
        "rectangle = Rectangle(4, 6)\n",
        "\n",
        "print(f\"Area of circle: {circle.area()}\")\n",
        "print(f\"Area of rectangle: {rectangle.area()}\")"
      ],
      "metadata": {
        "colab": {
          "base_uri": "https://localhost:8080/"
        },
        "id": "BssBLAW-snPC",
        "outputId": "c0861d25-d59c-44b5-ea11-b6721d81f4a6"
      },
      "execution_count": 8,
      "outputs": [
        {
          "output_type": "stream",
          "name": "stdout",
          "text": [
            "Area of circle: 78.53981633974483\n",
            "Area of rectangle: 24\n"
          ]
        }
      ]
    },
    {
      "cell_type": "markdown",
      "source": [
        "Q3. Implement a multi-level inheritance scenario where a class Vehicle has an attribute type. Derive a class Car\n",
        "and further derive a class ElectricCar that adds a battery attribute."
      ],
      "metadata": {
        "id": "EVrVYX_ULqjA"
      }
    },
    {
      "cell_type": "code",
      "source": [
        "class Vehicle:\n",
        "    def __init__(self, type):\n",
        "        self.type = type\n",
        "\n",
        "class Car(Vehicle):\n",
        "    def __init__(self, type, model):\n",
        "        super().__init__(type)\n",
        "        self.model = model\n",
        "\n",
        "class ElectricCar(Car):\n",
        "    def __init__(self, type, model, battery):\n",
        "        super().__init__(type, model)\n",
        "        self.battery = battery"
      ],
      "metadata": {
        "id": "EP4gdwPXLu_o"
      },
      "execution_count": 7,
      "outputs": []
    },
    {
      "cell_type": "code",
      "source": [
        "vehicle = Vehicle(\"Sedan\")\n",
        "car = Car(\"Sedan\", \"Toyota Camry\")\n",
        "electric_car = ElectricCar(\"Sedan\", \"Tesla Model 3\", \"100 kWh\")\n",
        "\n",
        "print(f\"Vehicle Type: {vehicle.type}\")\n",
        "print(f\"Car Model: {car.model}, Type: {car.type}\")\n",
        "print(f\"Electric Car Model: {electric_car.model}, Type: {electric_car.type}, Battery: {electric_car.battery}\")"
      ],
      "metadata": {
        "colab": {
          "base_uri": "https://localhost:8080/"
        },
        "id": "ZFzjRkhnF4yO",
        "outputId": "c82d1283-7880-4a76-b91e-75cc81a0883d"
      },
      "execution_count": 8,
      "outputs": [
        {
          "output_type": "stream",
          "name": "stdout",
          "text": [
            "Vehicle Type: Sedan\n",
            "Car Model: Toyota Camry, Type: Sedan\n",
            "Electric Car Model: Tesla Model 3, Type: Sedan, Battery: 100 kWh\n"
          ]
        }
      ]
    },
    {
      "cell_type": "markdown",
      "source": [
        "Q4. Demonstrate polymorphism by creating a base class Bird with a method fly(). Create two derived classes\n",
        "Sparrow and Penguin that override the fly() method.\n"
      ],
      "metadata": {
        "id": "7VuMxwURLuf3"
      }
    },
    {
      "cell_type": "code",
      "source": [
        "class Bird:\n",
        "    def fly(self):\n",
        "        print(\"The bird is flying.\")\n",
        "\n",
        "class Sparrow(Bird):\n",
        "    def fly(self):\n",
        "        print(\"The sparrow is soaring through the sky.\")\n",
        "\n",
        "class Penguin(Bird):\n",
        "    def fly(self):\n",
        "        print(\"Penguins can't fly, they waddle and swim.\")"
      ],
      "metadata": {
        "id": "fgY7QJoGLz9W"
      },
      "execution_count": 9,
      "outputs": []
    },
    {
      "cell_type": "code",
      "source": [
        "bird = Bird()\n",
        "sparrow = Sparrow()\n",
        "penguin = Penguin()\n",
        "\n",
        "bird.fly()\n",
        "sparrow.fly()\n",
        "penguin.fly()"
      ],
      "metadata": {
        "colab": {
          "base_uri": "https://localhost:8080/"
        },
        "id": "Z5K00L8IGHr2",
        "outputId": "7de2f52c-4aa6-4f1d-efe1-4cb6586b526f"
      },
      "execution_count": 10,
      "outputs": [
        {
          "output_type": "stream",
          "name": "stdout",
          "text": [
            "The bird is flying.\n",
            "The sparrow is soaring through the sky.\n",
            "Penguins can't fly, they waddle and swim.\n"
          ]
        }
      ]
    },
    {
      "cell_type": "markdown",
      "source": [
        "Q5. Write a program to demonstrate encapsulation by creating a class BankAccount with private attributes\n",
        "balance and methods to deposit, withdraw, and check balance."
      ],
      "metadata": {
        "id": "l4P9P7EnL0e7"
      }
    },
    {
      "cell_type": "code",
      "source": [
        "class BankAccount:\n",
        "    def __init__(self, initial_balance=0):\n",
        "        self.__balance = initial_balance\n",
        "\n",
        "    def deposit(self, amount):\n",
        "        if amount > 0:\n",
        "            self.__balance += amount\n",
        "            print(f\"Deposited ${amount}. New balance: ${self.__balance}\")\n",
        "        else:\n",
        "            print(\"Invalid deposit amount.\")\n",
        "\n",
        "    def withdraw(self, amount):\n",
        "        if amount > 0:\n",
        "            if amount <= self.__balance:\n",
        "                self.__balance -= amount\n",
        "                print(f\"Withdrew ${amount}. New balance: ${self.__balance}\")\n",
        "            else:\n",
        "                print(\"Insufficient funds.\")\n",
        "        else:\n",
        "            print(\"Invalid withdrawal amount.\")\n",
        "\n",
        "    def get_balance(self):\n",
        "               return self.__balance"
      ],
      "metadata": {
        "id": "uV8zH2GoL4EG"
      },
      "execution_count": 11,
      "outputs": []
    },
    {
      "cell_type": "code",
      "source": [
        "account = BankAccount(100)\n",
        "print(f\"Initial balance: ${account.get_balance()}\")\n",
        "\n",
        "account.deposit(50)\n",
        "account.withdraw(20)\n",
        "account.withdraw(150)\n",
        "print(f\"Final balance: ${account.get_balance()}\")"
      ],
      "metadata": {
        "colab": {
          "base_uri": "https://localhost:8080/"
        },
        "id": "HlLWhIE4IJWp",
        "outputId": "b71f27b8-a6f9-41fe-ef2f-98c5fbfa712b"
      },
      "execution_count": 12,
      "outputs": [
        {
          "output_type": "stream",
          "name": "stdout",
          "text": [
            "Initial balance: $100\n",
            "Deposited $50. New balance: $150\n",
            "Withdrew $20. New balance: $130\n",
            "Insufficient funds.\n",
            "Final balance: $130\n"
          ]
        }
      ]
    },
    {
      "cell_type": "markdown",
      "source": [
        "Q6. Demonstrate runtime polymorphism using a method play() in a base class Instrument. Derive classes Guitar\n",
        "and Piano that implement their own version of play()."
      ],
      "metadata": {
        "id": "M5T41b4iL4p3"
      }
    },
    {
      "cell_type": "code",
      "source": [],
      "metadata": {
        "id": "KPq8ZnNDL8hy"
      },
      "execution_count": null,
      "outputs": []
    },
    {
      "cell_type": "markdown",
      "source": [
        "Q7. Create a class MathOperations with a class method add_numbers() to add two numbers and a static\n",
        "method subtract_numbers() to subtract two numbers"
      ],
      "metadata": {
        "id": "Ao8fvZc5L8-a"
      }
    },
    {
      "cell_type": "code",
      "source": [
        "class MathOperations:\n",
        "    @classmethod\n",
        "    def add_numbers(cls, num1, num2):\n",
        "        return num1 + num2\n",
        "\n",
        "    @staticmethod\n",
        "    def subtract_numbers(num1, num2):\n",
        "        return num1 - num2"
      ],
      "metadata": {
        "id": "MuKAQVAgMAj2"
      },
      "execution_count": 13,
      "outputs": []
    },
    {
      "cell_type": "code",
      "source": [
        "sum_result = MathOperations.add_numbers(10, 5)\n",
        "print(f\"Sum: {sum_result}\")"
      ],
      "metadata": {
        "colab": {
          "base_uri": "https://localhost:8080/"
        },
        "id": "DRkoKp_sMY7l",
        "outputId": "c80526fa-a3ad-4811-e2c8-e0bf7f572130"
      },
      "execution_count": 14,
      "outputs": [
        {
          "output_type": "stream",
          "name": "stdout",
          "text": [
            "Sum: 15\n"
          ]
        }
      ]
    },
    {
      "cell_type": "code",
      "source": [
        "difference_result = MathOperations.subtract_numbers(10, 5)\n",
        "print(f\"Difference: {difference_result}\")"
      ],
      "metadata": {
        "colab": {
          "base_uri": "https://localhost:8080/"
        },
        "id": "PfaMCfMXMetH",
        "outputId": "c562d068-239a-43fa-8661-3ea2ba8bb65f"
      },
      "execution_count": 15,
      "outputs": [
        {
          "output_type": "stream",
          "name": "stdout",
          "text": [
            "Difference: 5\n"
          ]
        }
      ]
    },
    {
      "cell_type": "markdown",
      "source": [
        "Q8. Implement a class Person with a class method to count the total number of persons created."
      ],
      "metadata": {
        "id": "hbwXlmdzMBBA"
      }
    },
    {
      "cell_type": "code",
      "source": [
        "class Person:\n",
        "    person_count = 0\n",
        "\n",
        "    def __init__(self, name):\n",
        "        self.name = name\n",
        "        Person.person_count += 1\n",
        "\n",
        "    @classmethod\n",
        "    def get_person_count(cls):\n",
        "        return cls.person_count"
      ],
      "metadata": {
        "id": "_SIib4GuMFMd"
      },
      "execution_count": 16,
      "outputs": []
    },
    {
      "cell_type": "code",
      "source": [
        "person1 = Person(\"Alice\")\n",
        "person2 = Person(\"Bob\")\n",
        "person3 = Person(\"Charlie\")\n",
        "\n",
        "print(f\"Total number of persons created: {Person.get_person_count()}\")"
      ],
      "metadata": {
        "colab": {
          "base_uri": "https://localhost:8080/"
        },
        "id": "-S-6YFZ7Mtj6",
        "outputId": "6e2633a8-5530-43dd-ca6a-282f85b55a7b"
      },
      "execution_count": 17,
      "outputs": [
        {
          "output_type": "stream",
          "name": "stdout",
          "text": [
            "Total number of persons created: 3\n"
          ]
        }
      ]
    },
    {
      "cell_type": "markdown",
      "source": [
        "Q9. Write a class Fraction with attributes numerator and denominator. Override the str method to display the\n",
        "fraction as \"numerator/denominator\"."
      ],
      "metadata": {
        "id": "fsfOE08NMFs_"
      }
    },
    {
      "cell_type": "code",
      "source": [
        "class Fraction:\n",
        "    def __init__(self, numerator, denominator):\n",
        "        self.numerator = numerator\n",
        "        self.denominator = denominator\n",
        "\n",
        "    def __str__(self):\n",
        "        return f\"{self.numerator}/{self.denominator}\"\n"
      ],
      "metadata": {
        "id": "xg8VqVJpMKVj"
      },
      "execution_count": 18,
      "outputs": []
    },
    {
      "cell_type": "code",
      "source": [
        "my_fraction = Fraction(3, 4)\n",
        "print(my_fraction)"
      ],
      "metadata": {
        "colab": {
          "base_uri": "https://localhost:8080/"
        },
        "id": "b-hKvZxlNZgE",
        "outputId": "b8dc7bf1-675b-47b1-ef14-20617157d0b6"
      },
      "execution_count": 19,
      "outputs": [
        {
          "output_type": "stream",
          "name": "stdout",
          "text": [
            "3/4\n"
          ]
        }
      ]
    },
    {
      "cell_type": "markdown",
      "source": [
        "Q10. Demonstrate operator overloading by creating a class Vector and overriding the add method to add two\n",
        "vectors."
      ],
      "metadata": {
        "id": "2P4cgAY1MKrf"
      }
    },
    {
      "cell_type": "code",
      "source": [
        "class Vector:\n",
        "    def __init__(self, x, y):\n",
        "        self.x = x\n",
        "        self.y = y\n",
        "\n",
        "    def __str__(self):\n",
        "        return f\"Vector({self.x}, {self.y})\"\n",
        "\n",
        "    def __add__(self, other):\n",
        "        if isinstance(other, Vector):\n",
        "            return Vector(self.x + other.x, self.y + other.y)\n",
        "        else:\n",
        "            raise TypeError(\"Unsupported operand type for +: 'Vector' and '{}'\".format(type(other).__name__))\n"
      ],
      "metadata": {
        "id": "fdv8fr43MOc5"
      },
      "execution_count": 20,
      "outputs": []
    },
    {
      "cell_type": "code",
      "source": [
        "v1 = Vector(1, 2)\n",
        "v2 = Vector(3, 4)\n",
        "v3 = v1 + v2\n",
        "print(v3)"
      ],
      "metadata": {
        "colab": {
          "base_uri": "https://localhost:8080/"
        },
        "id": "Ta5syBcpNxYs",
        "outputId": "f34b4780-a795-4d82-c683-1fa3b5b21755"
      },
      "execution_count": 21,
      "outputs": [
        {
          "output_type": "stream",
          "name": "stdout",
          "text": [
            "Vector(4, 6)\n"
          ]
        }
      ]
    },
    {
      "cell_type": "markdown",
      "source": [
        "Q11. Create a class Person with attributes name and age. Add a method greet() that prints \"Hello, my name is\n",
        "{name} and I am {age} years old.\""
      ],
      "metadata": {
        "id": "OTeFPn3KMO_z"
      }
    },
    {
      "cell_type": "code",
      "source": [
        "class Person:\n",
        "    def __init__(self, name, age):\n",
        "        self.name = name\n",
        "        self.age = age\n",
        "\n",
        "    def greet(self):\n",
        "        print(f\"Hello, my name is {self.name} and I am {self.age} years old.\")"
      ],
      "metadata": {
        "id": "v9Q4jokAMVgc"
      },
      "execution_count": 22,
      "outputs": []
    },
    {
      "cell_type": "code",
      "source": [
        "person1 = Person(\"Alice\", 30)\n",
        "person1.greet()"
      ],
      "metadata": {
        "colab": {
          "base_uri": "https://localhost:8080/"
        },
        "id": "JMWow1IPOedP",
        "outputId": "29ca4164-f4f6-4951-9fe0-6b442715b3cd"
      },
      "execution_count": 23,
      "outputs": [
        {
          "output_type": "stream",
          "name": "stdout",
          "text": [
            "Hello, my name is Alice and I am 30 years old.\n"
          ]
        }
      ]
    },
    {
      "cell_type": "markdown",
      "source": [
        "Q12.  Implement a class Student with attributes name and grades. Create a method average_grade() to compute\n",
        "the average of the grades."
      ],
      "metadata": {
        "id": "3UO_ECHRMV80"
      }
    },
    {
      "cell_type": "code",
      "source": [
        "class Student:\n",
        "    def __init__(self, name, grades=None):\n",
        "        self.name = name\n",
        "        self.grades = grades if grades is not None else []\n",
        "\n",
        "    def add_grade(self, grade):\n",
        "        self.grades.append(grade)\n",
        "\n",
        "    def average_grade(self):\n",
        "        if not self.grades:\n",
        "            return None\n",
        "        return sum(self.grades) / len(self.grades)"
      ],
      "metadata": {
        "id": "_et0vTOCMaOx"
      },
      "execution_count": 24,
      "outputs": []
    },
    {
      "cell_type": "code",
      "source": [
        "student1 = Student(\"Alice\", [85, 90, 78, 92])\n",
        "print(f\"{student1.name}'s average grade: {student1.average_grade()}\")\n",
        "\n",
        "student2 = Student(\"Bob\")\n",
        "print(f\"{student2.name}'s average grade: {student2.average_grade()}\")\n",
        "\n",
        "student2.add_grade(70)\n",
        "student2.add_grade(80)\n",
        "print(f\"{student2.name}'s average grade: {student2.average_grade()}\")"
      ],
      "metadata": {
        "colab": {
          "base_uri": "https://localhost:8080/"
        },
        "id": "juAolXOsPQt7",
        "outputId": "fc000516-2cda-4db3-8f3b-7e4d6024d782"
      },
      "execution_count": 25,
      "outputs": [
        {
          "output_type": "stream",
          "name": "stdout",
          "text": [
            "Alice's average grade: 86.25\n",
            "Bob's average grade: None\n",
            "Bob's average grade: 75.0\n"
          ]
        }
      ]
    },
    {
      "cell_type": "markdown",
      "source": [
        "Q13. Create a class Rectangle with methods set_dimensions() to set the dimensions and area() to calculate the\n",
        "area"
      ],
      "metadata": {
        "id": "zIVbwrVuMa8W"
      }
    },
    {
      "cell_type": "code",
      "source": [
        "class Rectangle:\n",
        "    def __init__(self):\n",
        "        self.length = 0\n",
        "        self.breadth = 0\n",
        "\n",
        "    def set_dimensions(self, length, breadth):\n",
        "        self.length = length\n",
        "        self.breadth = breadth\n",
        "\n",
        "    def area(self):\n",
        "        return self.length * self.breadth"
      ],
      "metadata": {
        "id": "S1gFT2nXMg07"
      },
      "execution_count": 26,
      "outputs": []
    },
    {
      "cell_type": "code",
      "source": [
        "my_rectangle = Rectangle()\n",
        "my_rectangle.set_dimensions(10, 5)"
      ],
      "metadata": {
        "id": "53l6H6tAPj1B"
      },
      "execution_count": 27,
      "outputs": []
    },
    {
      "cell_type": "code",
      "source": [
        "rectangle_area = my_rectangle.area()\n",
        "print(f\"The area of the rectangle is: {rectangle_area}\")"
      ],
      "metadata": {
        "colab": {
          "base_uri": "https://localhost:8080/"
        },
        "id": "k13UlMTHPoHu",
        "outputId": "23e0571b-cf81-42b3-c76b-db2a3880658e"
      },
      "execution_count": 28,
      "outputs": [
        {
          "output_type": "stream",
          "name": "stdout",
          "text": [
            "The area of the rectangle is: 50\n"
          ]
        }
      ]
    },
    {
      "cell_type": "markdown",
      "source": [
        "Q14.  Create a class Employee with a method calculate_salary() that computes the salary based on hours worked\n",
        "and hourly rate. Create a derived class Manager that adds a bonus to the salary."
      ],
      "metadata": {
        "id": "KXfc0pTmMhUr"
      }
    },
    {
      "cell_type": "code",
      "source": [
        "class Employee:\n",
        "    def __init__(self, name, hourly_rate):\n",
        "        self.name = name\n",
        "        self.hourly_rate = hourly_rate\n",
        "\n",
        "    def calculate_salary(self, hours_worked):\n",
        "        return hours_worked * self.hourly_rate\n",
        "\n",
        "class Manager(Employee):\n",
        "    def __init__(self, name, hourly_rate, bonus):\n",
        "        super().__init__(name, hourly_rate)\n",
        "        self.bonus = bonus\n",
        "\n",
        "    def calculate_salary(self, hours_worked):\n",
        "        employee_salary = super().calculate_salary(hours_worked)\n",
        "        return employee_salary + self.bonus"
      ],
      "metadata": {
        "id": "aJX0oRi3Ml_H"
      },
      "execution_count": 29,
      "outputs": []
    },
    {
      "cell_type": "markdown",
      "source": [
        "Q15. Create a class Product with attributes name, price, and quantity. Implement a method total_price() that\n",
        "calculates the total price of the product."
      ],
      "metadata": {
        "id": "b9RnKEskMmXV"
      }
    },
    {
      "cell_type": "code",
      "source": [],
      "metadata": {
        "id": "fWF855wxMskN"
      },
      "execution_count": null,
      "outputs": []
    },
    {
      "cell_type": "markdown",
      "source": [
        "Q16. Create a class Animal with an abstract method sound(). Create two derived classes Cow and Sheep that\n",
        "implement the sound() method."
      ],
      "metadata": {
        "id": "ywalOeN7Ms50"
      }
    },
    {
      "cell_type": "code",
      "source": [
        "from abc import ABC, abstractmethod\n",
        "\n",
        "class Animal(ABC):\n",
        "    @abstractmethod\n",
        "    def sound(self):\n",
        "        pass\n",
        "\n",
        "class Cow(Animal):\n",
        "    def sound(self):\n",
        "        return \"Moo\"\n",
        "\n",
        "class Sheep(Animal):\n",
        "    def sound(self):\n",
        "        return \"Baa\""
      ],
      "metadata": {
        "id": "5oWq0kfsMxlQ"
      },
      "execution_count": 12,
      "outputs": []
    },
    {
      "cell_type": "code",
      "source": [
        "cow = Cow()\n",
        "sheep = Sheep()\n",
        "print(f\"Cow says: {cow.sound()}\")\n",
        "print(f\"Sheep says: {sheep.sound()}\")"
      ],
      "metadata": {
        "colab": {
          "base_uri": "https://localhost:8080/"
        },
        "id": "uBD07InGdNR_",
        "outputId": "ddf3aca4-fb2c-44a4-c21b-9c96525724d1"
      },
      "execution_count": 13,
      "outputs": [
        {
          "output_type": "stream",
          "name": "stdout",
          "text": [
            "Cow says: Moo\n",
            "Sheep says: Baa\n"
          ]
        }
      ]
    },
    {
      "cell_type": "markdown",
      "source": [
        "Q17. Create a class Book with attributes title, author, and year_published. Add a method get_book_info() that\n",
        "returns a formatted string with the book's details."
      ],
      "metadata": {
        "id": "lA9EcAcpMx65"
      }
    },
    {
      "cell_type": "code",
      "source": [
        "class Book:\n",
        "    def __init__(self, author, title, year):\n",
        "        self.author = author\n",
        "        self.title = title\n",
        "        self.year = year\n",
        "\n",
        "\n",
        "    def __str__(self):\n",
        "        return f'{self.author} {self.title} {self.year}'\n",
        "\n",
        "book_one = Book('John Green', 'PaperTowns', '1999')\n",
        "print(str(book_one))"
      ],
      "metadata": {
        "id": "YU6B8DBrM2Wf",
        "colab": {
          "base_uri": "https://localhost:8080/"
        },
        "outputId": "5f6eee98-788c-442c-fc21-2621350edda0"
      },
      "execution_count": 15,
      "outputs": [
        {
          "output_type": "stream",
          "name": "stdout",
          "text": [
            "John Green PaperTowns 1999\n"
          ]
        }
      ]
    },
    {
      "cell_type": "markdown",
      "source": [
        "Q18. Create a class House with attributes address and price. Create a derived class Mansion that adds an\n",
        "attribute number_of_rooms."
      ],
      "metadata": {
        "id": "znnbpnwrM2xE"
      }
    },
    {
      "cell_type": "code",
      "source": [],
      "metadata": {
        "id": "bKk7dVv_M642"
      },
      "execution_count": null,
      "outputs": []
    }
  ]
}